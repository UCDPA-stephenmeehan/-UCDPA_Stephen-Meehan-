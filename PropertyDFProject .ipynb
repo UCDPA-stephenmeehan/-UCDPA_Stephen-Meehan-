{
 "cells": [
  {
   "cell_type": "code",
   "execution_count": 5,
   "id": "45de54d0",
   "metadata": {},
   "outputs": [],
   "source": [
    "import pandas as pd"
   ]
  },
  {
   "cell_type": "code",
   "execution_count": 6,
   "id": "85b5ce47",
   "metadata": {},
   "outputs": [],
   "source": [
    "import numpy as np"
   ]
  },
  {
   "cell_type": "code",
   "execution_count": 7,
   "id": "43592115",
   "metadata": {},
   "outputs": [],
   "source": [
    "import matplotlib.pyplot as plt"
   ]
  },
  {
   "cell_type": "code",
   "execution_count": 8,
   "id": "0bb19e30",
   "metadata": {},
   "outputs": [],
   "source": [
    "import seaborn as sns"
   ]
  },
  {
   "cell_type": "code",
   "execution_count": 5,
   "id": "7590fe46",
   "metadata": {},
   "outputs": [],
   "source": [
    "df=pd.read_csv(r\"C:\\Users\\Stephen\\Downloads\\PPR2021.csv\")"
   ]
  },
  {
   "cell_type": "code",
   "execution_count": 6,
   "id": "e7b48936",
   "metadata": {},
   "outputs": [],
   "source": [
    "pd.options.display.float_format = \"{:.2f}\".format"
   ]
  },
  {
   "cell_type": "code",
   "execution_count": 7,
   "id": "80c353a6",
   "metadata": {},
   "outputs": [
    {
     "data": {
      "text/html": [
       "<div>\n",
       "<style scoped>\n",
       "    .dataframe tbody tr th:only-of-type {\n",
       "        vertical-align: middle;\n",
       "    }\n",
       "\n",
       "    .dataframe tbody tr th {\n",
       "        vertical-align: top;\n",
       "    }\n",
       "\n",
       "    .dataframe thead th {\n",
       "        text-align: right;\n",
       "    }\n",
       "</style>\n",
       "<table border=\"1\" class=\"dataframe\">\n",
       "  <thead>\n",
       "    <tr style=\"text-align: right;\">\n",
       "      <th></th>\n",
       "      <th>Date of Sale</th>\n",
       "      <th>Address</th>\n",
       "      <th>County</th>\n",
       "      <th>Eircode</th>\n",
       "      <th>Price</th>\n",
       "      <th>Not Full Market Price</th>\n",
       "      <th>VAT Exclusive</th>\n",
       "      <th>Description of Property</th>\n",
       "      <th>Property Size Description</th>\n",
       "    </tr>\n",
       "  </thead>\n",
       "  <tbody>\n",
       "    <tr>\n",
       "      <th>0</th>\n",
       "      <td>01/01/2021</td>\n",
       "      <td>APT 15, SANDON COVE, CASTLE AVE DUBLIN 3</td>\n",
       "      <td>Dublin</td>\n",
       "      <td>D03RY60</td>\n",
       "      <td>295000.00</td>\n",
       "      <td>No</td>\n",
       "      <td>No</td>\n",
       "      <td>Second-Hand Dwelling house /Apartment</td>\n",
       "      <td>NaN</td>\n",
       "    </tr>\n",
       "    <tr>\n",
       "      <th>1</th>\n",
       "      <td>01/01/2021</td>\n",
       "      <td>APT 32, DANES COURT, CLONTARF RD DUBLIN 3</td>\n",
       "      <td>Dublin</td>\n",
       "      <td>D03W300</td>\n",
       "      <td>310000.00</td>\n",
       "      <td>No</td>\n",
       "      <td>No</td>\n",
       "      <td>Second-Hand Dwelling house /Apartment</td>\n",
       "      <td>NaN</td>\n",
       "    </tr>\n",
       "    <tr>\n",
       "      <th>2</th>\n",
       "      <td>03/01/2021</td>\n",
       "      <td>16 BURLEIGH COURT, BURLINGTON ROAD, DUBLIN 4</td>\n",
       "      <td>Dublin</td>\n",
       "      <td>NaN</td>\n",
       "      <td>450000.00</td>\n",
       "      <td>No</td>\n",
       "      <td>No</td>\n",
       "      <td>Second-Hand Dwelling house /Apartment</td>\n",
       "      <td>NaN</td>\n",
       "    </tr>\n",
       "    <tr>\n",
       "      <th>3</th>\n",
       "      <td>04/01/2021</td>\n",
       "      <td>1 CASTLEGAL CROSS, CLIFFONEY, CO. SLIGO</td>\n",
       "      <td>Sligo</td>\n",
       "      <td>NaN</td>\n",
       "      <td>148000.00</td>\n",
       "      <td>No</td>\n",
       "      <td>No</td>\n",
       "      <td>Second-Hand Dwelling house /Apartment</td>\n",
       "      <td>NaN</td>\n",
       "    </tr>\n",
       "    <tr>\n",
       "      <th>4</th>\n",
       "      <td>04/01/2021</td>\n",
       "      <td>1 PLAZA  VIEW, FAIR GREEN, MALLOW</td>\n",
       "      <td>Cork</td>\n",
       "      <td>NaN</td>\n",
       "      <td>158590.30</td>\n",
       "      <td>No</td>\n",
       "      <td>Yes</td>\n",
       "      <td>New Dwelling house /Apartment</td>\n",
       "      <td>NaN</td>\n",
       "    </tr>\n",
       "  </tbody>\n",
       "</table>\n",
       "</div>"
      ],
      "text/plain": [
       "  Date of Sale                                        Address  County  \\\n",
       "0    01/01/2021      APT 15, SANDON COVE, CASTLE AVE DUBLIN 3  Dublin   \n",
       "1    01/01/2021     APT 32, DANES COURT, CLONTARF RD DUBLIN 3  Dublin   \n",
       "2    03/01/2021  16 BURLEIGH COURT, BURLINGTON ROAD, DUBLIN 4  Dublin   \n",
       "3    04/01/2021       1 CASTLEGAL CROSS, CLIFFONEY, CO. SLIGO   Sligo   \n",
       "4    04/01/2021             1 PLAZA  VIEW, FAIR GREEN, MALLOW    Cork   \n",
       "\n",
       "   Eircode     Price Not Full Market Price VAT Exclusive  \\\n",
       "0  D03RY60 295000.00                    No            No   \n",
       "1  D03W300 310000.00                    No            No   \n",
       "2      NaN 450000.00                    No            No   \n",
       "3      NaN 148000.00                    No            No   \n",
       "4      NaN 158590.30                    No           Yes   \n",
       "\n",
       "                 Description of Property Property Size Description  \n",
       "0  Second-Hand Dwelling house /Apartment                       NaN  \n",
       "1  Second-Hand Dwelling house /Apartment                       NaN  \n",
       "2  Second-Hand Dwelling house /Apartment                       NaN  \n",
       "3  Second-Hand Dwelling house /Apartment                       NaN  \n",
       "4          New Dwelling house /Apartment                       NaN  "
      ]
     },
     "execution_count": 7,
     "metadata": {},
     "output_type": "execute_result"
    }
   ],
   "source": [
    "df.head()"
   ]
  },
  {
   "cell_type": "code",
   "execution_count": 11,
   "id": "1d5b0fe1",
   "metadata": {},
   "outputs": [
    {
     "name": "stdout",
     "output_type": "stream",
     "text": [
      "<class 'pandas.core.frame.DataFrame'>\n",
      "RangeIndex: 57341 entries, 0 to 57340\n",
      "Data columns (total 9 columns):\n",
      " #   Column                     Non-Null Count  Dtype  \n",
      "---  ------                     --------------  -----  \n",
      " 0   Date of Sale               57341 non-null  object \n",
      " 1   Address                    57341 non-null  object \n",
      " 2   County                     57341 non-null  object \n",
      " 3   Eircode                    28958 non-null  object \n",
      " 4   Price                      57341 non-null  float64\n",
      " 5   Not Full Market Price      57341 non-null  object \n",
      " 6   VAT Exclusive              57341 non-null  object \n",
      " 7   Description of Property    57341 non-null  object \n",
      " 8   Property Size Description  7 non-null      object \n",
      "dtypes: float64(1), object(8)\n",
      "memory usage: 3.9+ MB\n"
     ]
    }
   ],
   "source": [
    "df.info()"
   ]
  },
  {
   "cell_type": "code",
   "execution_count": 8,
   "id": "3c5e907d",
   "metadata": {},
   "outputs": [
    {
     "name": "stdout",
     "output_type": "stream",
     "text": [
      "County\n",
      "Carlow       144407274.26\n",
      "Cavan        158312054.50\n",
      "Clare        279522825.74\n",
      "Cork        1739079754.66\n",
      "Donegal      251100984.73\n",
      "Dublin      8955212796.83\n",
      "Galway       736341161.35\n",
      "Kerry        363414406.40\n",
      "Kildare     1170326871.54\n",
      "Kilkenny     232971131.57\n",
      "Laois        251360006.86\n",
      "Leitrim       74351036.70\n",
      "Limerick     504855196.34\n",
      "Longford      94727917.16\n",
      "Louth        408334729.43\n",
      "Mayo         250251027.86\n",
      "Meath        772806616.45\n",
      "Monaghan      75817782.76\n",
      "Offaly       149164564.25\n",
      "Roscommon    130025005.92\n",
      "Sligo        163330035.76\n",
      "Tipperary    291148311.91\n",
      "Waterford    357933429.25\n",
      "Westmeath    232753756.05\n",
      "Wexford      485906496.35\n",
      "Wicklow      896916115.03\n",
      "Name: Price, dtype: float64\n"
     ]
    }
   ],
   "source": [
    "sales_by_county = df.groupby(\"County\")[\"Price\"].sum()\n",
    "print (sales_by_county)"
   ]
  },
  {
   "cell_type": "code",
   "execution_count": 14,
   "id": "c0738fa1",
   "metadata": {},
   "outputs": [
    {
     "name": "stdout",
     "output_type": "stream",
     "text": [
      "County\n",
      "Carlow         682\n",
      "Cavan          876\n",
      "Clare         1334\n",
      "Cork          6208\n",
      "Donegal       1645\n",
      "Dublin       16477\n",
      "Galway        2738\n",
      "Kerry         1609\n",
      "Kildare       3349\n",
      "Kilkenny       928\n",
      "Laois         1046\n",
      "Leitrim        526\n",
      "Limerick      2109\n",
      "Longford       582\n",
      "Louth         1633\n",
      "Mayo          1527\n",
      "Meath         2496\n",
      "Monaghan       449\n",
      "Offaly         783\n",
      "Roscommon      888\n",
      "Sligo          931\n",
      "Tipperary     1596\n",
      "Waterford     1686\n",
      "Westmeath     1079\n",
      "Wexford       2097\n",
      "Wicklow       2067\n",
      "Name: Price, dtype: int64\n"
     ]
    }
   ],
   "source": [
    "sales_by_county1 = df.groupby(\"County\")[\"Price\"].count()\n",
    "print (sales_by_county1)"
   ]
  },
  {
   "cell_type": "code",
   "execution_count": 9,
   "id": "b40346c3",
   "metadata": {},
   "outputs": [
    {
     "name": "stdout",
     "output_type": "stream",
     "text": [
      "Description of Property\n",
      "New Dwelling house /Apartment             9072\n",
      "Second-Hand Dwelling house /Apartment    48266\n",
      "Teach/�ras�n C�naithe Ath�imhe               2\n",
      "Teach/�ras�n C�naithe Nua                    1\n",
      "Name: Description of Property, dtype: int64\n"
     ]
    }
   ],
   "source": [
    "sales_by_type = df.groupby(\"Description of Property\")[\"Description of Property\"].count()\n",
    "print (sales_by_type)"
   ]
  },
  {
   "cell_type": "code",
   "execution_count": 17,
   "id": "2aa46068",
   "metadata": {},
   "outputs": [
    {
     "data": {
      "text/plain": [
       "543497.7724603988"
      ]
     },
     "execution_count": 17,
     "metadata": {},
     "output_type": "execute_result"
    }
   ],
   "source": [
    "df[df[\"County\"] == \"Dublin\"][\"Price\"].mean()"
   ]
  },
  {
   "cell_type": "code",
   "execution_count": 21,
   "id": "3ef3f77f",
   "metadata": {},
   "outputs": [
    {
     "data": {
      "text/html": [
       "<div>\n",
       "<style scoped>\n",
       "    .dataframe tbody tr th:only-of-type {\n",
       "        vertical-align: middle;\n",
       "    }\n",
       "\n",
       "    .dataframe tbody tr th {\n",
       "        vertical-align: top;\n",
       "    }\n",
       "\n",
       "    .dataframe thead th {\n",
       "        text-align: right;\n",
       "    }\n",
       "</style>\n",
       "<table border=\"1\" class=\"dataframe\">\n",
       "  <thead>\n",
       "    <tr style=\"text-align: right;\">\n",
       "      <th></th>\n",
       "      <th>Price</th>\n",
       "    </tr>\n",
       "  </thead>\n",
       "  <tbody>\n",
       "    <tr>\n",
       "      <th>count</th>\n",
       "      <td>57341.00</td>\n",
       "    </tr>\n",
       "    <tr>\n",
       "      <th>mean</th>\n",
       "      <td>334322.24</td>\n",
       "    </tr>\n",
       "    <tr>\n",
       "      <th>std</th>\n",
       "      <td>1078148.17</td>\n",
       "    </tr>\n",
       "    <tr>\n",
       "      <th>min</th>\n",
       "      <td>5250.00</td>\n",
       "    </tr>\n",
       "    <tr>\n",
       "      <th>25%</th>\n",
       "      <td>167000.00</td>\n",
       "    </tr>\n",
       "    <tr>\n",
       "      <th>50%</th>\n",
       "      <td>256000.00</td>\n",
       "    </tr>\n",
       "    <tr>\n",
       "      <th>75%</th>\n",
       "      <td>370000.00</td>\n",
       "    </tr>\n",
       "    <tr>\n",
       "      <th>max</th>\n",
       "      <td>170142820.00</td>\n",
       "    </tr>\n",
       "  </tbody>\n",
       "</table>\n",
       "</div>"
      ],
      "text/plain": [
       "             Price\n",
       "count     57341.00\n",
       "mean     334322.24\n",
       "std     1078148.17\n",
       "min        5250.00\n",
       "25%      167000.00\n",
       "50%      256000.00\n",
       "75%      370000.00\n",
       "max   170142820.00"
      ]
     },
     "execution_count": 21,
     "metadata": {},
     "output_type": "execute_result"
    }
   ],
   "source": [
    "df.describe()"
   ]
  },
  {
   "cell_type": "code",
   "execution_count": 10,
   "id": "4f7c6798",
   "metadata": {},
   "outputs": [
    {
     "data": {
      "text/plain": [
       "0        False\n",
       "1        False\n",
       "2        False\n",
       "3        False\n",
       "4        False\n",
       "         ...  \n",
       "57336    False\n",
       "57337    False\n",
       "57338    False\n",
       "57339    False\n",
       "57340    False\n",
       "Length: 57341, dtype: bool"
      ]
     },
     "execution_count": 10,
     "metadata": {},
     "output_type": "execute_result"
    }
   ],
   "source": [
    "df.duplicated()"
   ]
  },
  {
   "cell_type": "code",
   "execution_count": 12,
   "id": "549cb8af",
   "metadata": {},
   "outputs": [],
   "source": [
    "df.drop_duplicates(keep = False, inplace=True)"
   ]
  },
  {
   "cell_type": "code",
   "execution_count": 13,
   "id": "3ed1ca4c",
   "metadata": {},
   "outputs": [
    {
     "data": {
      "text/plain": [
       "0"
      ]
     },
     "execution_count": 13,
     "metadata": {},
     "output_type": "execute_result"
    }
   ],
   "source": [
    "df.duplicated().sum()\n"
   ]
  },
  {
   "cell_type": "code",
   "execution_count": 14,
   "id": "64dba313",
   "metadata": {},
   "outputs": [
    {
     "name": "stdout",
     "output_type": "stream",
     "text": [
      "<class 'pandas.core.frame.DataFrame'>\n",
      "Int64Index: 57284 entries, 0 to 57340\n",
      "Data columns (total 9 columns):\n",
      " #   Column                     Non-Null Count  Dtype  \n",
      "---  ------                     --------------  -----  \n",
      " 0   Date of Sale               57284 non-null  object \n",
      " 1   Address                    57284 non-null  object \n",
      " 2   County                     57284 non-null  object \n",
      " 3   Eircode                    28929 non-null  object \n",
      " 4   Price                      57284 non-null  float64\n",
      " 5   Not Full Market Price      57284 non-null  object \n",
      " 6   VAT Exclusive              57284 non-null  object \n",
      " 7   Description of Property    57284 non-null  object \n",
      " 8   Property Size Description  7 non-null      object \n",
      "dtypes: float64(1), object(8)\n",
      "memory usage: 4.4+ MB\n"
     ]
    }
   ],
   "source": [
    "df.info()"
   ]
  },
  {
   "cell_type": "code",
   "execution_count": 41,
   "id": "99270e81",
   "metadata": {},
   "outputs": [
    {
     "data": {
      "text/plain": [
       "Date of Sale                     0\n",
       "Address                          0\n",
       "County                           0\n",
       "Eircode                      28355\n",
       "Price                            0\n",
       "Not Full Market Price            0\n",
       "VAT Exclusive                    0\n",
       "Description of Property          0\n",
       "Property Size Description    57277\n",
       "dtype: int64"
      ]
     },
     "execution_count": 41,
     "metadata": {},
     "output_type": "execute_result"
    }
   ],
   "source": [
    "df.isnull().sum()"
   ]
  },
  {
   "cell_type": "code",
   "execution_count": 15,
   "id": "02052574",
   "metadata": {},
   "outputs": [
    {
     "data": {
      "text/plain": [
       "0        Second-Hand Dwelling house /Apartment\n",
       "1        Second-Hand Dwelling house /Apartment\n",
       "2        Second-Hand Dwelling house /Apartment\n",
       "3        Second-Hand Dwelling house /Apartment\n",
       "4                New Dwelling house /Apartment\n",
       "                         ...                  \n",
       "57336    Second-Hand Dwelling house /Apartment\n",
       "57337    Second-Hand Dwelling house /Apartment\n",
       "57338    Second-Hand Dwelling house /Apartment\n",
       "57339    Second-Hand Dwelling house /Apartment\n",
       "57340    Second-Hand Dwelling house /Apartment\n",
       "Name: Description of Property, Length: 57284, dtype: object"
      ]
     },
     "execution_count": 15,
     "metadata": {},
     "output_type": "execute_result"
    }
   ],
   "source": [
    "df[\"Description of Property\"].replace(\"Teach/�ras�n C�naithe Nua\", \"New Dwelling house /Apartment\", regex=True)"
   ]
  },
  {
   "cell_type": "code",
   "execution_count": 47,
   "id": "e2807efc",
   "metadata": {},
   "outputs": [
    {
     "data": {
      "text/plain": [
       "0        Second-Hand Dwelling house /Apartment\n",
       "1        Second-Hand Dwelling house /Apartment\n",
       "2        Second-Hand Dwelling house /Apartment\n",
       "3        Second-Hand Dwelling house /Apartment\n",
       "4                New Dwelling house /Apartment\n",
       "                         ...                  \n",
       "57336    Second-Hand Dwelling house /Apartment\n",
       "57337    Second-Hand Dwelling house /Apartment\n",
       "57338    Second-Hand Dwelling house /Apartment\n",
       "57339    Second-Hand Dwelling house /Apartment\n",
       "57340    Second-Hand Dwelling house /Apartment\n",
       "Name: Description of Property, Length: 57284, dtype: object"
      ]
     },
     "execution_count": 47,
     "metadata": {},
     "output_type": "execute_result"
    }
   ],
   "source": [
    "df[\"Description of Property\"].replace(\"d = {'n':0,'y':1,'?':1\", \"Second-Hand Dwelling house /Apartment\", regex=True)"
   ]
  },
  {
   "cell_type": "code",
   "execution_count": 48,
   "id": "6d10a8c9",
   "metadata": {},
   "outputs": [
    {
     "name": "stdout",
     "output_type": "stream",
     "text": [
      "Description of Property\n",
      "New Dwelling house /Apartment             9060\n",
      "Second-Hand Dwelling house /Apartment    48221\n",
      "Teach/�ras�n C�naithe Ath�imhe               2\n",
      "Teach/�ras�n C�naithe Nua                    1\n",
      "Name: Description of Property, dtype: int64\n"
     ]
    }
   ],
   "source": [
    "sales_by_type = df.groupby(\"Description of Property\")[\"Description of Property\"].count()\n",
    "print (sales_by_type)"
   ]
  },
  {
   "cell_type": "code",
   "execution_count": 16,
   "id": "eb800c06",
   "metadata": {},
   "outputs": [],
   "source": [
    "d = {'Teach/�ras�n C�naithe Nua':'New Dwelling house /Apartment', 'Teach/�ras�n C�naithe Ath�imhe' :'Second-Hand Dwelling house /Apartment'}"
   ]
  },
  {
   "cell_type": "code",
   "execution_count": 17,
   "id": "72b7395d",
   "metadata": {},
   "outputs": [],
   "source": [
    "df = df.replace(d)"
   ]
  },
  {
   "cell_type": "code",
   "execution_count": 18,
   "id": "68d606d0",
   "metadata": {},
   "outputs": [
    {
     "name": "stdout",
     "output_type": "stream",
     "text": [
      "Description of Property\n",
      "New Dwelling house /Apartment             9061\n",
      "Second-Hand Dwelling house /Apartment    48223\n",
      "Name: Description of Property, dtype: int64\n"
     ]
    }
   ],
   "source": [
    "sales_by_type = df.groupby(\"Description of Property\")[\"Description of Property\"].count()\n",
    "print (sales_by_type)"
   ]
  },
  {
   "cell_type": "code",
   "execution_count": 19,
   "id": "a6552045",
   "metadata": {},
   "outputs": [],
   "source": [
    "df = df.drop('Eircode', axis=1)"
   ]
  },
  {
   "cell_type": "code",
   "execution_count": 20,
   "id": "67b6a4a9",
   "metadata": {},
   "outputs": [
    {
     "data": {
      "text/html": [
       "<div>\n",
       "<style scoped>\n",
       "    .dataframe tbody tr th:only-of-type {\n",
       "        vertical-align: middle;\n",
       "    }\n",
       "\n",
       "    .dataframe tbody tr th {\n",
       "        vertical-align: top;\n",
       "    }\n",
       "\n",
       "    .dataframe thead th {\n",
       "        text-align: right;\n",
       "    }\n",
       "</style>\n",
       "<table border=\"1\" class=\"dataframe\">\n",
       "  <thead>\n",
       "    <tr style=\"text-align: right;\">\n",
       "      <th></th>\n",
       "      <th>Date of Sale</th>\n",
       "      <th>Address</th>\n",
       "      <th>County</th>\n",
       "      <th>Price</th>\n",
       "      <th>Not Full Market Price</th>\n",
       "      <th>VAT Exclusive</th>\n",
       "      <th>Description of Property</th>\n",
       "      <th>Property Size Description</th>\n",
       "    </tr>\n",
       "  </thead>\n",
       "  <tbody>\n",
       "    <tr>\n",
       "      <th>0</th>\n",
       "      <td>01/01/2021</td>\n",
       "      <td>APT 15, SANDON COVE, CASTLE AVE DUBLIN 3</td>\n",
       "      <td>Dublin</td>\n",
       "      <td>295000.00</td>\n",
       "      <td>No</td>\n",
       "      <td>No</td>\n",
       "      <td>Second-Hand Dwelling house /Apartment</td>\n",
       "      <td>NaN</td>\n",
       "    </tr>\n",
       "    <tr>\n",
       "      <th>1</th>\n",
       "      <td>01/01/2021</td>\n",
       "      <td>APT 32, DANES COURT, CLONTARF RD DUBLIN 3</td>\n",
       "      <td>Dublin</td>\n",
       "      <td>310000.00</td>\n",
       "      <td>No</td>\n",
       "      <td>No</td>\n",
       "      <td>Second-Hand Dwelling house /Apartment</td>\n",
       "      <td>NaN</td>\n",
       "    </tr>\n",
       "    <tr>\n",
       "      <th>2</th>\n",
       "      <td>03/01/2021</td>\n",
       "      <td>16 BURLEIGH COURT, BURLINGTON ROAD, DUBLIN 4</td>\n",
       "      <td>Dublin</td>\n",
       "      <td>450000.00</td>\n",
       "      <td>No</td>\n",
       "      <td>No</td>\n",
       "      <td>Second-Hand Dwelling house /Apartment</td>\n",
       "      <td>NaN</td>\n",
       "    </tr>\n",
       "    <tr>\n",
       "      <th>3</th>\n",
       "      <td>04/01/2021</td>\n",
       "      <td>1 CASTLEGAL CROSS, CLIFFONEY, CO. SLIGO</td>\n",
       "      <td>Sligo</td>\n",
       "      <td>148000.00</td>\n",
       "      <td>No</td>\n",
       "      <td>No</td>\n",
       "      <td>Second-Hand Dwelling house /Apartment</td>\n",
       "      <td>NaN</td>\n",
       "    </tr>\n",
       "    <tr>\n",
       "      <th>4</th>\n",
       "      <td>04/01/2021</td>\n",
       "      <td>1 PLAZA  VIEW, FAIR GREEN, MALLOW</td>\n",
       "      <td>Cork</td>\n",
       "      <td>158590.30</td>\n",
       "      <td>No</td>\n",
       "      <td>Yes</td>\n",
       "      <td>New Dwelling house /Apartment</td>\n",
       "      <td>NaN</td>\n",
       "    </tr>\n",
       "  </tbody>\n",
       "</table>\n",
       "</div>"
      ],
      "text/plain": [
       "  Date of Sale                                        Address  County  \\\n",
       "0    01/01/2021      APT 15, SANDON COVE, CASTLE AVE DUBLIN 3  Dublin   \n",
       "1    01/01/2021     APT 32, DANES COURT, CLONTARF RD DUBLIN 3  Dublin   \n",
       "2    03/01/2021  16 BURLEIGH COURT, BURLINGTON ROAD, DUBLIN 4  Dublin   \n",
       "3    04/01/2021       1 CASTLEGAL CROSS, CLIFFONEY, CO. SLIGO   Sligo   \n",
       "4    04/01/2021             1 PLAZA  VIEW, FAIR GREEN, MALLOW    Cork   \n",
       "\n",
       "      Price Not Full Market Price VAT Exclusive  \\\n",
       "0 295000.00                    No            No   \n",
       "1 310000.00                    No            No   \n",
       "2 450000.00                    No            No   \n",
       "3 148000.00                    No            No   \n",
       "4 158590.30                    No           Yes   \n",
       "\n",
       "                 Description of Property Property Size Description  \n",
       "0  Second-Hand Dwelling house /Apartment                       NaN  \n",
       "1  Second-Hand Dwelling house /Apartment                       NaN  \n",
       "2  Second-Hand Dwelling house /Apartment                       NaN  \n",
       "3  Second-Hand Dwelling house /Apartment                       NaN  \n",
       "4          New Dwelling house /Apartment                       NaN  "
      ]
     },
     "execution_count": 20,
     "metadata": {},
     "output_type": "execute_result"
    }
   ],
   "source": [
    "df.head()"
   ]
  },
  {
   "cell_type": "code",
   "execution_count": 21,
   "id": "709244fe",
   "metadata": {},
   "outputs": [
    {
     "data": {
      "text/plain": [
       "Date of Sale                     0\n",
       "Address                          0\n",
       "County                           0\n",
       "Price                            0\n",
       "Not Full Market Price            0\n",
       "VAT Exclusive                    0\n",
       "Description of Property          0\n",
       "Property Size Description    57277\n",
       "dtype: int64"
      ]
     },
     "execution_count": 21,
     "metadata": {},
     "output_type": "execute_result"
    }
   ],
   "source": [
    "df.isnull().sum()"
   ]
  },
  {
   "cell_type": "code",
   "execution_count": 22,
   "id": "66334a86",
   "metadata": {},
   "outputs": [],
   "source": [
    "df['Date of Sale '] = pd.to_datetime(df['Date of Sale '])"
   ]
  },
  {
   "cell_type": "code",
   "execution_count": 23,
   "id": "76d54f81",
   "metadata": {},
   "outputs": [],
   "source": [
    "df['year'] = df.apply(lambda x: '2021' if x['Date of Sale '] >= pd.to_datetime('01/01/2021') else 'N/A', axis=1)"
   ]
  },
  {
   "cell_type": "code",
   "execution_count": 24,
   "id": "9bd3efbe",
   "metadata": {},
   "outputs": [
    {
     "data": {
      "text/html": [
       "<div>\n",
       "<style scoped>\n",
       "    .dataframe tbody tr th:only-of-type {\n",
       "        vertical-align: middle;\n",
       "    }\n",
       "\n",
       "    .dataframe tbody tr th {\n",
       "        vertical-align: top;\n",
       "    }\n",
       "\n",
       "    .dataframe thead th {\n",
       "        text-align: right;\n",
       "    }\n",
       "</style>\n",
       "<table border=\"1\" class=\"dataframe\">\n",
       "  <thead>\n",
       "    <tr style=\"text-align: right;\">\n",
       "      <th></th>\n",
       "      <th>Date of Sale</th>\n",
       "      <th>Address</th>\n",
       "      <th>County</th>\n",
       "      <th>Price</th>\n",
       "      <th>Not Full Market Price</th>\n",
       "      <th>VAT Exclusive</th>\n",
       "      <th>Description of Property</th>\n",
       "      <th>Property Size Description</th>\n",
       "      <th>year</th>\n",
       "    </tr>\n",
       "  </thead>\n",
       "  <tbody>\n",
       "    <tr>\n",
       "      <th>0</th>\n",
       "      <td>2021-01-01</td>\n",
       "      <td>APT 15, SANDON COVE, CASTLE AVE DUBLIN 3</td>\n",
       "      <td>Dublin</td>\n",
       "      <td>295000.00</td>\n",
       "      <td>No</td>\n",
       "      <td>No</td>\n",
       "      <td>Second-Hand Dwelling house /Apartment</td>\n",
       "      <td>NaN</td>\n",
       "      <td>2021</td>\n",
       "    </tr>\n",
       "    <tr>\n",
       "      <th>1</th>\n",
       "      <td>2021-01-01</td>\n",
       "      <td>APT 32, DANES COURT, CLONTARF RD DUBLIN 3</td>\n",
       "      <td>Dublin</td>\n",
       "      <td>310000.00</td>\n",
       "      <td>No</td>\n",
       "      <td>No</td>\n",
       "      <td>Second-Hand Dwelling house /Apartment</td>\n",
       "      <td>NaN</td>\n",
       "      <td>2021</td>\n",
       "    </tr>\n",
       "    <tr>\n",
       "      <th>2</th>\n",
       "      <td>2021-03-01</td>\n",
       "      <td>16 BURLEIGH COURT, BURLINGTON ROAD, DUBLIN 4</td>\n",
       "      <td>Dublin</td>\n",
       "      <td>450000.00</td>\n",
       "      <td>No</td>\n",
       "      <td>No</td>\n",
       "      <td>Second-Hand Dwelling house /Apartment</td>\n",
       "      <td>NaN</td>\n",
       "      <td>2021</td>\n",
       "    </tr>\n",
       "    <tr>\n",
       "      <th>3</th>\n",
       "      <td>2021-04-01</td>\n",
       "      <td>1 CASTLEGAL CROSS, CLIFFONEY, CO. SLIGO</td>\n",
       "      <td>Sligo</td>\n",
       "      <td>148000.00</td>\n",
       "      <td>No</td>\n",
       "      <td>No</td>\n",
       "      <td>Second-Hand Dwelling house /Apartment</td>\n",
       "      <td>NaN</td>\n",
       "      <td>2021</td>\n",
       "    </tr>\n",
       "    <tr>\n",
       "      <th>4</th>\n",
       "      <td>2021-04-01</td>\n",
       "      <td>1 PLAZA  VIEW, FAIR GREEN, MALLOW</td>\n",
       "      <td>Cork</td>\n",
       "      <td>158590.30</td>\n",
       "      <td>No</td>\n",
       "      <td>Yes</td>\n",
       "      <td>New Dwelling house /Apartment</td>\n",
       "      <td>NaN</td>\n",
       "      <td>2021</td>\n",
       "    </tr>\n",
       "  </tbody>\n",
       "</table>\n",
       "</div>"
      ],
      "text/plain": [
       "  Date of Sale                                        Address  County  \\\n",
       "0    2021-01-01      APT 15, SANDON COVE, CASTLE AVE DUBLIN 3  Dublin   \n",
       "1    2021-01-01     APT 32, DANES COURT, CLONTARF RD DUBLIN 3  Dublin   \n",
       "2    2021-03-01  16 BURLEIGH COURT, BURLINGTON ROAD, DUBLIN 4  Dublin   \n",
       "3    2021-04-01       1 CASTLEGAL CROSS, CLIFFONEY, CO. SLIGO   Sligo   \n",
       "4    2021-04-01             1 PLAZA  VIEW, FAIR GREEN, MALLOW    Cork   \n",
       "\n",
       "      Price Not Full Market Price VAT Exclusive  \\\n",
       "0 295000.00                    No            No   \n",
       "1 310000.00                    No            No   \n",
       "2 450000.00                    No            No   \n",
       "3 148000.00                    No            No   \n",
       "4 158590.30                    No           Yes   \n",
       "\n",
       "                 Description of Property Property Size Description  year  \n",
       "0  Second-Hand Dwelling house /Apartment                       NaN  2021  \n",
       "1  Second-Hand Dwelling house /Apartment                       NaN  2021  \n",
       "2  Second-Hand Dwelling house /Apartment                       NaN  2021  \n",
       "3  Second-Hand Dwelling house /Apartment                       NaN  2021  \n",
       "4          New Dwelling house /Apartment                       NaN  2021  "
      ]
     },
     "execution_count": 24,
     "metadata": {},
     "output_type": "execute_result"
    }
   ],
   "source": [
    "df.head()"
   ]
  },
  {
   "cell_type": "code",
   "execution_count": 73,
   "id": "1ea1c0a7",
   "metadata": {},
   "outputs": [],
   "source": [
    "df = df.drop('Property Size Description', axis=1)"
   ]
  },
  {
   "cell_type": "code",
   "execution_count": 74,
   "id": "3ba7543b",
   "metadata": {},
   "outputs": [
    {
     "data": {
      "text/html": [
       "<div>\n",
       "<style scoped>\n",
       "    .dataframe tbody tr th:only-of-type {\n",
       "        vertical-align: middle;\n",
       "    }\n",
       "\n",
       "    .dataframe tbody tr th {\n",
       "        vertical-align: top;\n",
       "    }\n",
       "\n",
       "    .dataframe thead th {\n",
       "        text-align: right;\n",
       "    }\n",
       "</style>\n",
       "<table border=\"1\" class=\"dataframe\">\n",
       "  <thead>\n",
       "    <tr style=\"text-align: right;\">\n",
       "      <th></th>\n",
       "      <th>Date of Sale</th>\n",
       "      <th>Address</th>\n",
       "      <th>County</th>\n",
       "      <th>Price</th>\n",
       "      <th>Not Full Market Price</th>\n",
       "      <th>VAT Exclusive</th>\n",
       "      <th>Description of Property</th>\n",
       "      <th>year</th>\n",
       "    </tr>\n",
       "  </thead>\n",
       "  <tbody>\n",
       "    <tr>\n",
       "      <th>0</th>\n",
       "      <td>2021-01-01</td>\n",
       "      <td>APT 15, SANDON COVE, CASTLE AVE DUBLIN 3</td>\n",
       "      <td>Dublin</td>\n",
       "      <td>295000.00</td>\n",
       "      <td>No</td>\n",
       "      <td>No</td>\n",
       "      <td>Second-Hand Dwelling house /Apartment</td>\n",
       "      <td>2021</td>\n",
       "    </tr>\n",
       "    <tr>\n",
       "      <th>1</th>\n",
       "      <td>2021-01-01</td>\n",
       "      <td>APT 32, DANES COURT, CLONTARF RD DUBLIN 3</td>\n",
       "      <td>Dublin</td>\n",
       "      <td>310000.00</td>\n",
       "      <td>No</td>\n",
       "      <td>No</td>\n",
       "      <td>Second-Hand Dwelling house /Apartment</td>\n",
       "      <td>2021</td>\n",
       "    </tr>\n",
       "    <tr>\n",
       "      <th>2</th>\n",
       "      <td>2021-03-01</td>\n",
       "      <td>16 BURLEIGH COURT, BURLINGTON ROAD, DUBLIN 4</td>\n",
       "      <td>Dublin</td>\n",
       "      <td>450000.00</td>\n",
       "      <td>No</td>\n",
       "      <td>No</td>\n",
       "      <td>Second-Hand Dwelling house /Apartment</td>\n",
       "      <td>2021</td>\n",
       "    </tr>\n",
       "    <tr>\n",
       "      <th>3</th>\n",
       "      <td>2021-04-01</td>\n",
       "      <td>1 CASTLEGAL CROSS, CLIFFONEY, CO. SLIGO</td>\n",
       "      <td>Sligo</td>\n",
       "      <td>148000.00</td>\n",
       "      <td>No</td>\n",
       "      <td>No</td>\n",
       "      <td>Second-Hand Dwelling house /Apartment</td>\n",
       "      <td>2021</td>\n",
       "    </tr>\n",
       "    <tr>\n",
       "      <th>4</th>\n",
       "      <td>2021-04-01</td>\n",
       "      <td>1 PLAZA  VIEW, FAIR GREEN, MALLOW</td>\n",
       "      <td>Cork</td>\n",
       "      <td>158590.30</td>\n",
       "      <td>No</td>\n",
       "      <td>Yes</td>\n",
       "      <td>New Dwelling house /Apartment</td>\n",
       "      <td>2021</td>\n",
       "    </tr>\n",
       "  </tbody>\n",
       "</table>\n",
       "</div>"
      ],
      "text/plain": [
       "  Date of Sale                                        Address  County  \\\n",
       "0    2021-01-01      APT 15, SANDON COVE, CASTLE AVE DUBLIN 3  Dublin   \n",
       "1    2021-01-01     APT 32, DANES COURT, CLONTARF RD DUBLIN 3  Dublin   \n",
       "2    2021-03-01  16 BURLEIGH COURT, BURLINGTON ROAD, DUBLIN 4  Dublin   \n",
       "3    2021-04-01       1 CASTLEGAL CROSS, CLIFFONEY, CO. SLIGO   Sligo   \n",
       "4    2021-04-01             1 PLAZA  VIEW, FAIR GREEN, MALLOW    Cork   \n",
       "\n",
       "      Price Not Full Market Price VAT Exclusive  \\\n",
       "0 295000.00                    No            No   \n",
       "1 310000.00                    No            No   \n",
       "2 450000.00                    No            No   \n",
       "3 148000.00                    No            No   \n",
       "4 158590.30                    No           Yes   \n",
       "\n",
       "                 Description of Property  year  \n",
       "0  Second-Hand Dwelling house /Apartment  2021  \n",
       "1  Second-Hand Dwelling house /Apartment  2021  \n",
       "2  Second-Hand Dwelling house /Apartment  2021  \n",
       "3  Second-Hand Dwelling house /Apartment  2021  \n",
       "4          New Dwelling house /Apartment  2021  "
      ]
     },
     "execution_count": 74,
     "metadata": {},
     "output_type": "execute_result"
    }
   ],
   "source": [
    "df.head()"
   ]
  },
  {
   "cell_type": "code",
   "execution_count": 75,
   "id": "ecddcfb7",
   "metadata": {},
   "outputs": [
    {
     "data": {
      "text/plain": [
       "Date of Sale               0\n",
       "Address                    0\n",
       "County                     0\n",
       "Price                      0\n",
       "Not Full Market Price      0\n",
       "VAT Exclusive              0\n",
       "Description of Property    0\n",
       "year                       0\n",
       "dtype: int64"
      ]
     },
     "execution_count": 75,
     "metadata": {},
     "output_type": "execute_result"
    }
   ],
   "source": [
    "df.isnull().sum()"
   ]
  },
  {
   "cell_type": "code",
   "execution_count": 78,
   "id": "9d64feea",
   "metadata": {},
   "outputs": [],
   "source": [
    "new_df=pd.read_csv(r\"C:\\Users\\Stephen\\Downloads\\PPR2011.csv\")\n"
   ]
  },
  {
   "cell_type": "code",
   "execution_count": 79,
   "id": "726e61d4",
   "metadata": {},
   "outputs": [
    {
     "data": {
      "text/html": [
       "<div>\n",
       "<style scoped>\n",
       "    .dataframe tbody tr th:only-of-type {\n",
       "        vertical-align: middle;\n",
       "    }\n",
       "\n",
       "    .dataframe tbody tr th {\n",
       "        vertical-align: top;\n",
       "    }\n",
       "\n",
       "    .dataframe thead th {\n",
       "        text-align: right;\n",
       "    }\n",
       "</style>\n",
       "<table border=\"1\" class=\"dataframe\">\n",
       "  <thead>\n",
       "    <tr style=\"text-align: right;\">\n",
       "      <th></th>\n",
       "      <th>Date of Sale</th>\n",
       "      <th>Address</th>\n",
       "      <th>County</th>\n",
       "      <th>Eircode</th>\n",
       "      <th>Price</th>\n",
       "      <th>Not Full Market Price</th>\n",
       "      <th>VAT Exclusive</th>\n",
       "      <th>Description of Property</th>\n",
       "      <th>Property Size Description</th>\n",
       "    </tr>\n",
       "  </thead>\n",
       "  <tbody>\n",
       "    <tr>\n",
       "      <th>0</th>\n",
       "      <td>01/01/2011</td>\n",
       "      <td>251 Clontarf Road, Clontarf</td>\n",
       "      <td>Dublin</td>\n",
       "      <td>NaN</td>\n",
       "      <td>108532.00</td>\n",
       "      <td>Yes</td>\n",
       "      <td>No</td>\n",
       "      <td>Second-Hand Dwelling house /Apartment</td>\n",
       "      <td>NaN</td>\n",
       "    </tr>\n",
       "    <tr>\n",
       "      <th>1</th>\n",
       "      <td>04/01/2011</td>\n",
       "      <td>1 Lenaboy Gardens, Salthill</td>\n",
       "      <td>Galway</td>\n",
       "      <td>NaN</td>\n",
       "      <td>300000.00</td>\n",
       "      <td>No</td>\n",
       "      <td>No</td>\n",
       "      <td>Second-Hand Dwelling house /Apartment</td>\n",
       "      <td>NaN</td>\n",
       "    </tr>\n",
       "    <tr>\n",
       "      <th>2</th>\n",
       "      <td>04/01/2011</td>\n",
       "      <td>1 The Standing Stone, Clongeen</td>\n",
       "      <td>Wexford</td>\n",
       "      <td>NaN</td>\n",
       "      <td>143000.00</td>\n",
       "      <td>No</td>\n",
       "      <td>No</td>\n",
       "      <td>Second-Hand Dwelling house /Apartment</td>\n",
       "      <td>NaN</td>\n",
       "    </tr>\n",
       "    <tr>\n",
       "      <th>3</th>\n",
       "      <td>04/01/2011</td>\n",
       "      <td>15 Frenchville, Grattan Road, Galway</td>\n",
       "      <td>Galway</td>\n",
       "      <td>NaN</td>\n",
       "      <td>330000.00</td>\n",
       "      <td>No</td>\n",
       "      <td>No</td>\n",
       "      <td>Second-Hand Dwelling house /Apartment</td>\n",
       "      <td>NaN</td>\n",
       "    </tr>\n",
       "    <tr>\n",
       "      <th>4</th>\n",
       "      <td>04/01/2011</td>\n",
       "      <td>20 Victoria Court, West End, Kilkee</td>\n",
       "      <td>Clare</td>\n",
       "      <td>NaN</td>\n",
       "      <td>175000.00</td>\n",
       "      <td>No</td>\n",
       "      <td>No</td>\n",
       "      <td>Second-Hand Dwelling house /Apartment</td>\n",
       "      <td>NaN</td>\n",
       "    </tr>\n",
       "  </tbody>\n",
       "</table>\n",
       "</div>"
      ],
      "text/plain": [
       "  Date of Sale                               Address   County  Eircode  \\\n",
       "0   01/01/2011           251 Clontarf Road, Clontarf   Dublin      NaN   \n",
       "1   04/01/2011           1 Lenaboy Gardens, Salthill   Galway      NaN   \n",
       "2   04/01/2011        1 The Standing Stone, Clongeen  Wexford      NaN   \n",
       "3   04/01/2011  15 Frenchville, Grattan Road, Galway   Galway      NaN   \n",
       "4   04/01/2011   20 Victoria Court, West End, Kilkee    Clare      NaN   \n",
       "\n",
       "      Price Not Full Market Price VAT Exclusive  \\\n",
       "0 108532.00                   Yes            No   \n",
       "1 300000.00                    No            No   \n",
       "2 143000.00                    No            No   \n",
       "3 330000.00                    No            No   \n",
       "4 175000.00                    No            No   \n",
       "\n",
       "                 Description of Property Property Size Description  \n",
       "0  Second-Hand Dwelling house /Apartment                       NaN  \n",
       "1  Second-Hand Dwelling house /Apartment                       NaN  \n",
       "2  Second-Hand Dwelling house /Apartment                       NaN  \n",
       "3  Second-Hand Dwelling house /Apartment                       NaN  \n",
       "4  Second-Hand Dwelling house /Apartment                       NaN  "
      ]
     },
     "execution_count": 79,
     "metadata": {},
     "output_type": "execute_result"
    }
   ],
   "source": [
    "new_df.head()"
   ]
  },
  {
   "cell_type": "code",
   "execution_count": 26,
   "id": "d756b912",
   "metadata": {},
   "outputs": [
    {
     "name": "stdout",
     "output_type": "stream",
     "text": [
      "County\n",
      "Carlow      211740.87\n",
      "Cavan       180721.52\n",
      "Clare       209537.35\n",
      "Cork        280454.19\n",
      "Donegal     152862.10\n",
      "Dublin      543816.68\n",
      "Galway      269023.09\n",
      "Kerry       222348.19\n",
      "Kildare     349575.36\n",
      "Kilkenny    251394.31\n",
      "Laois       236396.45\n",
      "Leitrim     141351.78\n",
      "Limerick    239561.08\n",
      "Longford    162762.74\n",
      "Louth       250051.89\n",
      "Mayo        163884.10\n",
      "Meath       309618.04\n",
      "Monaghan    168859.20\n",
      "Offaly      190503.91\n",
      "Roscommon   146424.56\n",
      "Sligo       175512.44\n",
      "Tipperary   182423.75\n",
      "Waterford   212297.41\n",
      "Westmeath   215720.85\n",
      "Wexford     231738.21\n",
      "Wicklow     434283.83\n",
      "Name: Price, dtype: float64\n"
     ]
    }
   ],
   "source": [
    "avg_Price_By_County = df.groupby(\"County\")[\"Price\"].mean()\n",
    "print(avg_Price_By_County)"
   ]
  },
  {
   "cell_type": "code",
   "execution_count": 33,
   "id": "0a4c0902",
   "metadata": {},
   "outputs": [
    {
     "data": {
      "image/png": "[encoded data removed]",
      "text/plain": [
       "<Figure size 432x288 with 1 Axes>"
      ]
     },
     "metadata": {
      "needs_background": "light"
     },
     "output_type": "display_data"
    }
   ],
   "source": [
    "avg_Price_By_County.plot(kind=\"bar\", title=\"Avg_Price_By_County\")\n",
    "plt.show()\n"
   ]
  },
  {
   "cell_type": "code",
   "execution_count": 35,
   "id": "d8bf31d4",
   "metadata": {},
   "outputs": [],
   "source": [
    "Data2011_df=pd.read_csv(r\"C:\\Users\\Stephen\\Downloads\\PPR2011.csv\")"
   ]
  },
  {
   "cell_type": "code",
   "execution_count": 36,
   "id": "6d88183c",
   "metadata": {},
   "outputs": [
    {
     "data": {
      "text/html": [
       "<div>\n",
       "<style scoped>\n",
       "    .dataframe tbody tr th:only-of-type {\n",
       "        vertical-align: middle;\n",
       "    }\n",
       "\n",
       "    .dataframe tbody tr th {\n",
       "        vertical-align: top;\n",
       "    }\n",
       "\n",
       "    .dataframe thead th {\n",
       "        text-align: right;\n",
       "    }\n",
       "</style>\n",
       "<table border=\"1\" class=\"dataframe\">\n",
       "  <thead>\n",
       "    <tr style=\"text-align: right;\">\n",
       "      <th></th>\n",
       "      <th>Date of Sale</th>\n",
       "      <th>Address</th>\n",
       "      <th>County</th>\n",
       "      <th>Eircode</th>\n",
       "      <th>Price</th>\n",
       "      <th>Not Full Market Price</th>\n",
       "      <th>VAT Exclusive</th>\n",
       "      <th>Description of Property</th>\n",
       "      <th>Property Size Description</th>\n",
       "    </tr>\n",
       "  </thead>\n",
       "  <tbody>\n",
       "    <tr>\n",
       "      <th>0</th>\n",
       "      <td>01/01/2011</td>\n",
       "      <td>251 Clontarf Road, Clontarf</td>\n",
       "      <td>Dublin</td>\n",
       "      <td>NaN</td>\n",
       "      <td>108532.00</td>\n",
       "      <td>Yes</td>\n",
       "      <td>No</td>\n",
       "      <td>Second-Hand Dwelling house /Apartment</td>\n",
       "      <td>NaN</td>\n",
       "    </tr>\n",
       "    <tr>\n",
       "      <th>1</th>\n",
       "      <td>04/01/2011</td>\n",
       "      <td>1 Lenaboy Gardens, Salthill</td>\n",
       "      <td>Galway</td>\n",
       "      <td>NaN</td>\n",
       "      <td>300000.00</td>\n",
       "      <td>No</td>\n",
       "      <td>No</td>\n",
       "      <td>Second-Hand Dwelling house /Apartment</td>\n",
       "      <td>NaN</td>\n",
       "    </tr>\n",
       "    <tr>\n",
       "      <th>2</th>\n",
       "      <td>04/01/2011</td>\n",
       "      <td>1 The Standing Stone, Clongeen</td>\n",
       "      <td>Wexford</td>\n",
       "      <td>NaN</td>\n",
       "      <td>143000.00</td>\n",
       "      <td>No</td>\n",
       "      <td>No</td>\n",
       "      <td>Second-Hand Dwelling house /Apartment</td>\n",
       "      <td>NaN</td>\n",
       "    </tr>\n",
       "    <tr>\n",
       "      <th>3</th>\n",
       "      <td>04/01/2011</td>\n",
       "      <td>15 Frenchville, Grattan Road, Galway</td>\n",
       "      <td>Galway</td>\n",
       "      <td>NaN</td>\n",
       "      <td>330000.00</td>\n",
       "      <td>No</td>\n",
       "      <td>No</td>\n",
       "      <td>Second-Hand Dwelling house /Apartment</td>\n",
       "      <td>NaN</td>\n",
       "    </tr>\n",
       "    <tr>\n",
       "      <th>4</th>\n",
       "      <td>04/01/2011</td>\n",
       "      <td>20 Victoria Court, West End, Kilkee</td>\n",
       "      <td>Clare</td>\n",
       "      <td>NaN</td>\n",
       "      <td>175000.00</td>\n",
       "      <td>No</td>\n",
       "      <td>No</td>\n",
       "      <td>Second-Hand Dwelling house /Apartment</td>\n",
       "      <td>NaN</td>\n",
       "    </tr>\n",
       "  </tbody>\n",
       "</table>\n",
       "</div>"
      ],
      "text/plain": [
       "  Date of Sale                               Address   County  Eircode  \\\n",
       "0   01/01/2011           251 Clontarf Road, Clontarf   Dublin      NaN   \n",
       "1   04/01/2011           1 Lenaboy Gardens, Salthill   Galway      NaN   \n",
       "2   04/01/2011        1 The Standing Stone, Clongeen  Wexford      NaN   \n",
       "3   04/01/2011  15 Frenchville, Grattan Road, Galway   Galway      NaN   \n",
       "4   04/01/2011   20 Victoria Court, West End, Kilkee    Clare      NaN   \n",
       "\n",
       "      Price Not Full Market Price VAT Exclusive  \\\n",
       "0 108532.00                   Yes            No   \n",
       "1 300000.00                    No            No   \n",
       "2 143000.00                    No            No   \n",
       "3 330000.00                    No            No   \n",
       "4 175000.00                    No            No   \n",
       "\n",
       "                 Description of Property Property Size Description  \n",
       "0  Second-Hand Dwelling house /Apartment                       NaN  \n",
       "1  Second-Hand Dwelling house /Apartment                       NaN  \n",
       "2  Second-Hand Dwelling house /Apartment                       NaN  \n",
       "3  Second-Hand Dwelling house /Apartment                       NaN  \n",
       "4  Second-Hand Dwelling house /Apartment                       NaN  "
      ]
     },
     "execution_count": 36,
     "metadata": {},
     "output_type": "execute_result"
    }
   ],
   "source": [
    "Data2011_df.head()"
   ]
  },
  {
   "cell_type": "code",
   "execution_count": 37,
   "id": "2bdd8c86",
   "metadata": {},
   "outputs": [
    {
     "data": {
      "text/plain": [
       "25"
      ]
     },
     "execution_count": 37,
     "metadata": {},
     "output_type": "execute_result"
    }
   ],
   "source": [
    "Data2011_df.duplicated().sum()"
   ]
  },
  {
   "cell_type": "code",
   "execution_count": 38,
   "id": "53ad16e0",
   "metadata": {},
   "outputs": [],
   "source": [
    "Data2011_df.drop_duplicates(keep = False, inplace=True)"
   ]
  },
  {
   "cell_type": "code",
   "execution_count": 39,
   "id": "87679d5d",
   "metadata": {},
   "outputs": [
    {
     "data": {
      "text/plain": [
       "0"
      ]
     },
     "execution_count": 39,
     "metadata": {},
     "output_type": "execute_result"
    }
   ],
   "source": [
    "Data2011_df.duplicated().sum()"
   ]
  },
  {
   "cell_type": "code",
   "execution_count": 40,
   "id": "daa34c7c",
   "metadata": {},
   "outputs": [],
   "source": [
    "Data2011_df['Date of Sale'] = pd.to_datetime(Data2011_df['Date of Sale'])"
   ]
  },
  {
   "cell_type": "code",
   "execution_count": 41,
   "id": "074fc808",
   "metadata": {},
   "outputs": [],
   "source": [
    "Data2011_df = Data2011_df.drop('Eircode', axis=1)"
   ]
  },
  {
   "cell_type": "code",
   "execution_count": 43,
   "id": "ed424130",
   "metadata": {},
   "outputs": [],
   "source": [
    "Data2011_df['year'] = Data2011_df.apply(lambda x: '2011' if x['Date of Sale'] >= pd.to_datetime('01/01/2011') else 'N/A', axis=1)"
   ]
  },
  {
   "cell_type": "code",
   "execution_count": 44,
   "id": "65d64612",
   "metadata": {},
   "outputs": [
    {
     "data": {
      "text/html": [
       "<div>\n",
       "<style scoped>\n",
       "    .dataframe tbody tr th:only-of-type {\n",
       "        vertical-align: middle;\n",
       "    }\n",
       "\n",
       "    .dataframe tbody tr th {\n",
       "        vertical-align: top;\n",
       "    }\n",
       "\n",
       "    .dataframe thead th {\n",
       "        text-align: right;\n",
       "    }\n",
       "</style>\n",
       "<table border=\"1\" class=\"dataframe\">\n",
       "  <thead>\n",
       "    <tr style=\"text-align: right;\">\n",
       "      <th></th>\n",
       "      <th>Date of Sale</th>\n",
       "      <th>Address</th>\n",
       "      <th>County</th>\n",
       "      <th>Price</th>\n",
       "      <th>Not Full Market Price</th>\n",
       "      <th>VAT Exclusive</th>\n",
       "      <th>Description of Property</th>\n",
       "      <th>Property Size Description</th>\n",
       "      <th>year</th>\n",
       "    </tr>\n",
       "  </thead>\n",
       "  <tbody>\n",
       "    <tr>\n",
       "      <th>0</th>\n",
       "      <td>2011-01-01</td>\n",
       "      <td>251 Clontarf Road, Clontarf</td>\n",
       "      <td>Dublin</td>\n",
       "      <td>108532.00</td>\n",
       "      <td>Yes</td>\n",
       "      <td>No</td>\n",
       "      <td>Second-Hand Dwelling house /Apartment</td>\n",
       "      <td>NaN</td>\n",
       "      <td>2011</td>\n",
       "    </tr>\n",
       "    <tr>\n",
       "      <th>1</th>\n",
       "      <td>2011-04-01</td>\n",
       "      <td>1 Lenaboy Gardens, Salthill</td>\n",
       "      <td>Galway</td>\n",
       "      <td>300000.00</td>\n",
       "      <td>No</td>\n",
       "      <td>No</td>\n",
       "      <td>Second-Hand Dwelling house /Apartment</td>\n",
       "      <td>NaN</td>\n",
       "      <td>2011</td>\n",
       "    </tr>\n",
       "    <tr>\n",
       "      <th>2</th>\n",
       "      <td>2011-04-01</td>\n",
       "      <td>1 The Standing Stone, Clongeen</td>\n",
       "      <td>Wexford</td>\n",
       "      <td>143000.00</td>\n",
       "      <td>No</td>\n",
       "      <td>No</td>\n",
       "      <td>Second-Hand Dwelling house /Apartment</td>\n",
       "      <td>NaN</td>\n",
       "      <td>2011</td>\n",
       "    </tr>\n",
       "    <tr>\n",
       "      <th>3</th>\n",
       "      <td>2011-04-01</td>\n",
       "      <td>15 Frenchville, Grattan Road, Galway</td>\n",
       "      <td>Galway</td>\n",
       "      <td>330000.00</td>\n",
       "      <td>No</td>\n",
       "      <td>No</td>\n",
       "      <td>Second-Hand Dwelling house /Apartment</td>\n",
       "      <td>NaN</td>\n",
       "      <td>2011</td>\n",
       "    </tr>\n",
       "    <tr>\n",
       "      <th>4</th>\n",
       "      <td>2011-04-01</td>\n",
       "      <td>20 Victoria Court, West End, Kilkee</td>\n",
       "      <td>Clare</td>\n",
       "      <td>175000.00</td>\n",
       "      <td>No</td>\n",
       "      <td>No</td>\n",
       "      <td>Second-Hand Dwelling house /Apartment</td>\n",
       "      <td>NaN</td>\n",
       "      <td>2011</td>\n",
       "    </tr>\n",
       "  </tbody>\n",
       "</table>\n",
       "</div>"
      ],
      "text/plain": [
       "  Date of Sale                               Address   County     Price  \\\n",
       "0   2011-01-01           251 Clontarf Road, Clontarf   Dublin 108532.00   \n",
       "1   2011-04-01           1 Lenaboy Gardens, Salthill   Galway 300000.00   \n",
       "2   2011-04-01        1 The Standing Stone, Clongeen  Wexford 143000.00   \n",
       "3   2011-04-01  15 Frenchville, Grattan Road, Galway   Galway 330000.00   \n",
       "4   2011-04-01   20 Victoria Court, West End, Kilkee    Clare 175000.00   \n",
       "\n",
       "  Not Full Market Price VAT Exclusive                Description of Property  \\\n",
       "0                   Yes            No  Second-Hand Dwelling house /Apartment   \n",
       "1                    No            No  Second-Hand Dwelling house /Apartment   \n",
       "2                    No            No  Second-Hand Dwelling house /Apartment   \n",
       "3                    No            No  Second-Hand Dwelling house /Apartment   \n",
       "4                    No            No  Second-Hand Dwelling house /Apartment   \n",
       "\n",
       "  Property Size Description  year  \n",
       "0                       NaN  2011  \n",
       "1                       NaN  2011  \n",
       "2                       NaN  2011  \n",
       "3                       NaN  2011  \n",
       "4                       NaN  2011  "
      ]
     },
     "execution_count": 44,
     "metadata": {},
     "output_type": "execute_result"
    }
   ],
   "source": [
    "Data2011_df.head()"
   ]
  },
  {
   "cell_type": "code",
   "execution_count": 11,
   "id": "17f4255f",
   "metadata": {},
   "outputs": [
    {
     "ename": "SyntaxError",
     "evalue": "invalid syntax (<ipython-input-11-541443ddeeff>, line 1)",
     "output_type": "error",
     "traceback": [
      "\u001b[1;36m  File \u001b[1;32m\"<ipython-input-11-541443ddeeff>\"\u001b[1;36m, line \u001b[1;32m1\u001b[0m\n\u001b[1;33m    git init\u001b[0m\n\u001b[1;37m        ^\u001b[0m\n\u001b[1;31mSyntaxError\u001b[0m\u001b[1;31m:\u001b[0m invalid syntax\n"
     ]
    }
   ],
   "source": [
    "\n",
    "git init\n",
    "git add README.md\n",
    "git commit -m \"first commit\"\n",
    "git branch -M main\n",
    "git remote add origin https://github.com/UCDPA-stephenmeehan/-UCDPA_Stephen-Meehan-.git\n",
    "git push -u origin main"
   ]
  },
  {
   "cell_type": "code",
   "execution_count": 12,
   "id": "464ba0e7",
   "metadata": {},
   "outputs": [
    {
     "ename": "SyntaxError",
     "evalue": "invalid syntax (<ipython-input-12-8a4e0a79025b>, line 1)",
     "output_type": "error",
     "traceback": [
      "\u001b[1;36m  File \u001b[1;32m\"<ipython-input-12-8a4e0a79025b>\"\u001b[1;36m, line \u001b[1;32m1\u001b[0m\n\u001b[1;33m    git clone https:://github.com/UCDPA-stephenmeehan/-UCDPA_Stephen-Meehan-.git\u001b[0m\n\u001b[1;37m        ^\u001b[0m\n\u001b[1;31mSyntaxError\u001b[0m\u001b[1;31m:\u001b[0m invalid syntax\n"
     ]
    }
   ],
   "source": [
    "git clone https:://github.com/UCDPA-stephenmeehan/-UCDPA_Stephen-Meehan-.git"
   ]
  },
  {
   "cell_type": "code",
   "execution_count": 13,
   "id": "dcdc135b",
   "metadata": {},
   "outputs": [
    {
     "ename": "SyntaxError",
     "evalue": "invalid syntax (<ipython-input-13-f08e2ea02187>, line 1)",
     "output_type": "error",
     "traceback": [
      "\u001b[1;36m  File \u001b[1;32m\"<ipython-input-13-f08e2ea02187>\"\u001b[1;36m, line \u001b[1;32m1\u001b[0m\n\u001b[1;33m    git remote add origin https://github.com/UCDPA-stephenmeehan/-UCDPA_Stephen-Meehan-.git\u001b[0m\n\u001b[1;37m        ^\u001b[0m\n\u001b[1;31mSyntaxError\u001b[0m\u001b[1;31m:\u001b[0m invalid syntax\n"
     ]
    }
   ],
   "source": [
    "git remote add origin https://github.com/UCDPA-stephenmeehan/-UCDPA_Stephen-Meehan-.git\n",
    "git branch -M main\n",
    "git push -u origin mai"
   ]
  },
  {
   "cell_type": "code",
   "execution_count": 15,
   "id": "800c7bac",
   "metadata": {},
   "outputs": [
    {
     "ename": "SyntaxError",
     "evalue": "invalid syntax (<ipython-input-15-58262386e15d>, line 2)",
     "output_type": "error",
     "traceback": [
      "\u001b[1;36m  File \u001b[1;32m\"<ipython-input-15-58262386e15d>\"\u001b[1;36m, line \u001b[1;32m2\u001b[0m\n\u001b[1;33m    echo \"# -UCDPA_Stephen-Meehan-\" >> README.md\u001b[0m\n\u001b[1;37m         ^\u001b[0m\n\u001b[1;31mSyntaxError\u001b[0m\u001b[1;31m:\u001b[0m invalid syntax\n"
     ]
    }
   ],
   "source": [
    "cd\n",
    "echo \"# -UCDPA_Stephen-Meehan-\" >> README.md\n",
    "git init\n",
    "git add README.md\n",
    "git commit -m \"first commit\"\n",
    "git branch -M main\n",
    "git remote add origin https://github.com/UCDPA-stephenmeehan/-UCDPA_Stephen-Meehan-.git\n",
    "git push -u origin main"
   ]
  },
  {
   "cell_type": "code",
   "execution_count": null,
   "id": "c1897e4f",
   "metadata": {},
   "outputs": [],
   "source": []
  }
 ],
 "metadata": {
  "kernelspec": {
   "display_name": "Python 3",
   "language": "python",
   "name": "python3"
  },
  "language_info": {
   "codemirror_mode": {
    "name": "ipython",
    "version": 3
   },
   "file_extension": ".py",
   "mimetype": "text/x-python",
   "name": "python",
   "nbconvert_exporter": "python",
   "pygments_lexer": "ipython3",
   "version": "3.8.8"
  }
 },
 "nbformat": 4,
 "nbformat_minor": 5
}
